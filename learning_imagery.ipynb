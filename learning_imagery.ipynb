{
  "nbformat": 4,
  "nbformat_minor": 0,
  "metadata": {
    "colab": {
      "provenance": [],
      "authorship_tag": "ABX9TyPN9kNLzP36Ube2nmbgjh0U",
      "include_colab_link": true
    },
    "kernelspec": {
      "name": "python3",
      "display_name": "Python 3"
    },
    "language_info": {
      "name": "python"
    }
  },
  "cells": [
    {
      "cell_type": "markdown",
      "metadata": {
        "id": "view-in-github",
        "colab_type": "text"
      },
      "source": [
        "<a href=\"https://colab.research.google.com/github/catarinacecilio/dotfiles/blob/master/learning_imagery.ipynb\" target=\"_parent\"><img src=\"https://colab.research.google.com/assets/colab-badge.svg\" alt=\"Open In Colab\"/></a>"
      ]
    },
    {
      "cell_type": "code",
      "execution_count": null,
      "metadata": {
        "id": "TPGZo-gG2nTO"
      },
      "outputs": [],
      "source": [
        "import os\n",
        "import matplotlib.pyplot as plt\n",
        "import matplotlib.image as mpimg\n",
        "import numpy as np\n",
        "import pandas as pd\n",
        "from PIL import Image\n",
        "import sys\n",
        "import csv"
      ]
    },
    {
      "cell_type": "markdown",
      "source": [
        "# Raw Data"
      ],
      "metadata": {
        "id": "zoy5oZyy35mI"
      }
    },
    {
      "cell_type": "code",
      "source": [
        "!tar -xvzf /content/NEKOa.tgz -C /content/raw_data\n",
        "!tar -xvzf /content/NEKOb.tgz -C /content/raw_data\n",
        "!tar -xvzf /content/NEKOc.tgz -C /content/raw_data\n",
        "!tar -xvzf /content/PETEc.tgz -C /content/raw_data\n",
        "!tar -xvzf /content/CompleteAnnotations_2016-07-11.tgz -C /content/raw_data"
      ],
      "metadata": {
        "id": "QXKWuXWY2wRF"
      },
      "execution_count": null,
      "outputs": []
    },
    {
      "cell_type": "code",
      "source": [
        "roi_df = pd.read_csv('raw_data/roi.tsv', sep='\\,')\n",
        "camera_names = roi_df['Camera name']\n",
        "camera_names"
      ],
      "metadata": {
        "id": "qphcf1fJ27em"
      },
      "execution_count": null,
      "outputs": []
    },
    {
      "cell_type": "code",
      "source": [
        "# default format can be changed as needed\n",
        "def createFileList(myDir, format='.jpg'):\n",
        "    fileList = []\n",
        "    print(myDir)\n",
        "    labels = []\n",
        "    names = []\n",
        "    keywords = {\"K\" : \"1\",\"U\": \"0\",} # keys and values to be changed as needed\n",
        "    for root, dirs, files in os.walk(myDir, topdown=True):\n",
        "        for name in files:\n",
        "            if name.endswith(format):\n",
        "                fullName = os.path.join(root, name)\n",
        "                fileList.append(fullName)\n",
        "            for keyword in keywords:\n",
        "                if keyword in name:\n",
        "                    labels.append(keywords[keyword])\n",
        "                else:\n",
        "                    continue\n",
        "            names.append(name)\n",
        "    return fileList, labels, names"
      ],
      "metadata": {
        "id": "Xubz2AKSDCe8"
      },
      "execution_count": null,
      "outputs": []
    },
    {
      "cell_type": "code",
      "source": [
        "# load the original image\n",
        "myFileList, labels, names  = createFileList('/content/raw_data/')\n",
        "n_files = len(names)"
      ],
      "metadata": {
        "id": "Jeogm2LPDjD9"
      },
      "execution_count": null,
      "outputs": []
    },
    {
      "cell_type": "code",
      "source": [
        "i = 0\n",
        "for file in myFileList:\n",
        "    print(file)\n",
        "    img_file = Image.open(file)\n",
        "    # img_file.show()\n",
        "# get original image parameters...\n",
        "    width, height = img_file.size\n",
        "    format = img_file.format\n",
        "    mode = img_file.mode\n",
        "# Make image Greyscale\n",
        "    img_grey = img_file.convert('L')\n",
        "    #img_grey.save('result.png')\n",
        "    #img_grey.show()\n",
        "# Save Greyscale values\n",
        "    value = np.asarray(img_grey.getdata(), dtype=np.int).reshape((width, height))\n",
        "    value = value.flatten()\n",
        "    \n",
        "    value = np.append(value,labels[i])\n",
        "    i +=1\n",
        "    \n",
        "    print(value)\n",
        "    with open(\"penguim_dataset.csv\", 'a') as f:\n",
        "        writer = csv.writer(f)\n",
        "        writer.writerow(value)"
      ],
      "metadata": {
        "id": "krOpOR2_GfXw"
      },
      "execution_count": null,
      "outputs": []
    }
  ]
}